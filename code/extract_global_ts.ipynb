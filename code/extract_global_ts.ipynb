{
 "cells": [
  {
   "cell_type": "code",
   "execution_count": 1,
   "metadata": {},
   "outputs": [
    {
     "name": "stdout",
     "output_type": "stream",
     "text": [
      "removing 093\n"
     ]
    }
   ],
   "source": [
    "from bids import BIDSLayout, BIDSLayoutIndexer\n",
    "import pandas as pd\n",
    "import numpy as np\n",
    "bids_path = \"/home/lukeh/hpcworking/lukeH/projects/QNC_outcomes/data/derivatives/fmriprep_24.0.1/\"\n",
    "motion_threshold = 0.5\n",
    "\n",
    "# get subjects from bids \n",
    "indexer = BIDSLayoutIndexer(validate=False, index_metadata=False)\n",
    "layout = BIDSLayout(bids_path, indexer=indexer)\n",
    "subject_ids = layout.get_subjects()\n",
    "subject_ids.remove(\"159\")  # no clinical data (yet)\n",
    "\n",
    "for sid in subject_ids:\n",
    "    files = layout.get(subject=sid, extension=\".tsv\", return_type=\"filenames\")\n",
    "    df = pd.read_csv(files[0], delimiter=\"\\t\")\n",
    "    df2 = pd.read_csv(files[1], delimiter=\"\\t\")\n",
    "    motion = np.hstack((df.framewise_displacement.values[1::], df.framewise_displacement.values[1::]))\n",
    "    motion_avg = np.mean(motion)\n",
    "\n",
    "    if motion_avg > motion_threshold:\n",
    "        print(\"removing\", sid)\n",
    "        subject_ids.remove(sid)\n"
   ]
  },
  {
   "cell_type": "code",
   "execution_count": 2,
   "metadata": {},
   "outputs": [
    {
     "name": "stderr",
     "output_type": "stream",
     "text": [
      "100%|██████████| 27/27 [3:21:03<00:00, 446.78s/it]  \n"
     ]
    }
   ],
   "source": [
    "import pandas as pd\n",
    "import numpy as np\n",
    "from tqdm import tqdm\n",
    "import nibabel as nb\n",
    "from nilearn.image import math_img\n",
    "from nilearn.maskers import NiftiMasker\n",
    "\n",
    "bids_path = \"/home/lukeh/hpcworking/lukeH/projects/QNC_outcomes/data/bids/\"\n",
    "coord_df = pd.read_csv(bids_path+'phenotype/coordinates.tsv',\n",
    "                        delimiter=\"\\t\")\n",
    "\n",
    "\n",
    "path_to_data = \"/home/lukeh/hpcworking/lukeH/projects/QNC_outcomes/data/derivatives/fmriprep_24.0.1_denoised_smoothed/\"\n",
    "out_path = \"/home/lukeh/hpcworking/lukeH/projects/QNC_outcomes/data/derivatives/fmriprep_24.0.1_denoised_smoothed_ts/\"\n",
    "\n",
    "# create mask\n",
    "gm_img = nb.load(\"../../QNC_pipeline/masks/GMmask_new_trim_YT-NC.nii\")\n",
    "dlpfc_img = nb.load(\"../../QNC_pipeline/masks/DLPFCcombo20mm-NC.nii\")\n",
    "\n",
    "# Process normative data by masking out the dlpfc\n",
    "dlpfc_neg_mask = math_img(\n",
    "    \"-img + 1\",\n",
    "    img=dlpfc_img,\n",
    ")\n",
    "gm_img_masked = math_img(\n",
    "    \"img1 * img2\",\n",
    "    img1=gm_img,\n",
    "    img2=dlpfc_neg_mask,\n",
    ")\n",
    "\n",
    "for subj in tqdm(subject_ids):\n",
    "\n",
    "    for ses in [\"pre\", \"post\"]:\n",
    "        # get 4d nifti data\n",
    "        fname = f\"{path_to_data}sub-{subj}/ses-{ses}/sub-{subj}_ses-{ses}_denoise-Ciric36p_filter-butterworth_0.01_0.10_smooth-4_bold.nii.gz\"\n",
    "\n",
    "        # mask the data\n",
    "        mask = NiftiMasker(mask_img=gm_img_masked)\n",
    "        ts = mask.fit_transform(fname)\n",
    "\n",
    "        out = f\"{out_path}sub-{subj}/ses-{ses}/sub-{subj}_ses-{ses}_denoise-Ciric36p_filter-butterworth_0.01_0.10_smooth-4_bold_global.csv\"\n",
    "        np.savetxt(out, ts, delimiter=\",\")"
   ]
  }
 ],
 "metadata": {
  "kernelspec": {
   "display_name": "QNC_outcomes",
   "language": "python",
   "name": "python3"
  },
  "language_info": {
   "codemirror_mode": {
    "name": "ipython",
    "version": 3
   },
   "file_extension": ".py",
   "mimetype": "text/x-python",
   "name": "python",
   "nbconvert_exporter": "python",
   "pygments_lexer": "ipython3",
   "version": "3.9.7"
  },
  "orig_nbformat": 4
 },
 "nbformat": 4,
 "nbformat_minor": 2
}
